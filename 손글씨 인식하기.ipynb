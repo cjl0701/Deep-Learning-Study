{
 "cells": [
  {
   "cell_type": "code",
   "execution_count": 1,
   "metadata": {},
   "outputs": [
    {
     "name": "stderr",
     "output_type": "stream",
     "text": [
      "Using TensorFlow backend.\n"
     ]
    }
   ],
   "source": [
    "from keras.datasets import mnist\n",
    "from keras.utils import np_utils\n",
    "from keras.models import Sequential\n",
    "from keras.layers import Dense, Dropout, Flatten, Conv2D, MaxPooling2D\n",
    "from keras.callbacks import ModelCheckpoint, EarlyStopping\n",
    "\n",
    "import numpy\n",
    "import matplotlib.pyplot as plt\n",
    "import tensorflow as tf\n",
    "import os\n",
    "\n",
    "# seed 값 설정\n",
    "seed = 0\n",
    "numpy.random.seed(seed)\n",
    "tf.random.set_seed(seed)\n",
    "\n",
    "# MNIST 데이터셋 불러오기\n",
    "(X_train, Y_class_train), (X_test, Y_class_test) = mnist.load_data() # 워낙 많이 쓰이니 미리 이렇게 만들어버림(6:1)\n",
    "\n",
    "# 차원 변환 과정\n",
    "X_train = X_train.reshape(X_train.shape[0], 28, 28, 1).astype('float64')/255\n",
    "X_test = X_test.reshape(X_test.shape[0], 28, 28, 1).astype('float64')/255\n",
    "\n",
    "# 바이너리화 과정(원 핫 인코딩)\n",
    "Y_train = np_utils.to_categorical(Y_class_train, 10)\n",
    "Y_test = np_utils.to_categorical(Y_class_test, 10)\n"
   ]
  },
  {
   "cell_type": "code",
   "execution_count": 2,
   "metadata": {},
   "outputs": [
    {
     "name": "stdout",
     "output_type": "stream",
     "text": [
      "\n",
      "Epoch 00001: val_loss improved from inf to 0.05227, saving model to ./model/01-0.0523.hdf5\n",
      "\n",
      "Epoch 00002: val_loss improved from 0.05227 to 0.04142, saving model to ./model/02-0.0414.hdf5\n",
      "\n",
      "Epoch 00003: val_loss improved from 0.04142 to 0.03634, saving model to ./model/03-0.0363.hdf5\n",
      "\n",
      "Epoch 00004: val_loss did not improve from 0.03634\n",
      "\n",
      "Epoch 00005: val_loss improved from 0.03634 to 0.03532, saving model to ./model/05-0.0353.hdf5\n",
      "\n",
      "Epoch 00006: val_loss improved from 0.03532 to 0.03297, saving model to ./model/06-0.0330.hdf5\n",
      "\n",
      "Epoch 00007: val_loss did not improve from 0.03297\n",
      "\n",
      "Epoch 00008: val_loss did not improve from 0.03297\n",
      "\n",
      "Epoch 00009: val_loss improved from 0.03297 to 0.03191, saving model to ./model/09-0.0319.hdf5\n",
      "\n",
      "Epoch 00010: val_loss improved from 0.03191 to 0.03181, saving model to ./model/10-0.0318.hdf5\n",
      "\n",
      "Epoch 00011: val_loss did not improve from 0.03181\n",
      "\n",
      "Epoch 00012: val_loss improved from 0.03181 to 0.03007, saving model to ./model/12-0.0301.hdf5\n",
      "\n",
      "Epoch 00013: val_loss did not improve from 0.03007\n",
      "\n",
      "Epoch 00014: val_loss did not improve from 0.03007\n",
      "\n",
      "Epoch 00015: val_loss did not improve from 0.03007\n",
      "\n",
      "Epoch 00016: val_loss did not improve from 0.03007\n",
      "\n",
      "Epoch 00017: val_loss did not improve from 0.03007\n",
      "\n",
      "Epoch 00018: val_loss did not improve from 0.03007\n",
      "\n",
      "Epoch 00019: val_loss did not improve from 0.03007\n",
      "\n",
      "Epoch 00020: val_loss did not improve from 0.03007\n",
      "\n",
      "Epoch 00021: val_loss did not improve from 0.03007\n",
      "\n",
      "Epoch 00022: val_loss did not improve from 0.03007\n",
      "10000/10000 [==============================] - 4s 446us/step\n",
      "\n",
      " Test Accuracy: 0.9922\n"
     ]
    }
   ],
   "source": [
    "# 컨볼루션 신경망 설정\n",
    "model = Sequential()\n",
    "model.add(Conv2D(32, kernel_size=(3, 3), input_shape=(28,28,1), activation='relu'))\n",
    "model.add(Conv2D(64, (3, 3), activation='relu'))\n",
    "model.add(MaxPooling2D(pool_size=2))\n",
    "model.add(Dropout(0.25))\n",
    "model.add(Flatten())\n",
    "model.add(Dense(128, activation='relu'))\n",
    "model.add(Dropout(0.5))\n",
    "model.add(Dense(10, activation='softmax'))\n",
    "\n",
    "# 모델 실행 환경 설정\n",
    "model.compile(loss='categorical_crossentropy', optimizer='adam', metrics=['accuracy'])\n",
    "\n",
    "# 모델 최적화 설정\n",
    "MODEL_DIR = './model'\n",
    "if not os.path.exists(MODEL_DIR):\n",
    "    os.mkdir(MODEL_DIR)\n",
    "    \n",
    "modelpath=\"./model/{epoch:02d}-{val_loss:.4f}.hdf5\"\n",
    "checkpointer = ModelCheckpoint(filepath=modelpath, monitor='val_loss', verbose=1, save_best_only=True)\n",
    "early_stopping_callback = EarlyStopping(monitor='val_loss', patience=10)\n",
    "\n",
    "# 모델의 실행\n",
    "history = model.fit(X_train, Y_train, validation_data=(X_test, Y_test),\n",
    "                   epochs=30, batch_size=200, verbose=0, callbacks=[early_stopping_callback, checkpointer])\n",
    "\n",
    "# 테스트 정확도 출력\n",
    "print(\"\\n Test Accuracy: %.4f\" % (model.evaluate(X_test,Y_test)[1]))\n",
    "\n",
    "# 테스트셋의 오차\n",
    "y_vloss = history.history['val_loss']\n",
    "\n",
    "# 학습셋의 오차\n",
    "y_loss = history.history['loss']\n"
   ]
  },
  {
   "cell_type": "code",
   "execution_count": 3,
   "metadata": {},
   "outputs": [
    {
     "data": {
      "image/png": "[encoded data removed]",
      "text/plain": [
       "<Figure size 432x288 with 1 Axes>"
      ]
     },
     "metadata": {
      "needs_background": "light"
     },
     "output_type": "display_data"
    }
   ],
   "source": [
    "# 그래프로 표현\n",
    "x_len = numpy.arange(len(y_loss))\n",
    "plt.plot(x_len, y_vloss, marker='.', c=\"red\", label='Testset_loss')\n",
    "plt.plot(x_len, y_loss, marker='.', c=\"blue\", label='Trainset_loss')\n",
    "\n",
    "# 그래프에 그리드를 주고 레이블을 표시\n",
    "plt.legend(loc='upper right')\n",
    "plt.grid()\n",
    "plt.xlabel('epoch')\n",
    "plt.ylabel('loss')\n",
    "plt.show()\n"
   ]
  }
 ],
 "metadata": {
  "kernelspec": {
   "display_name": "Python 3",
   "language": "python",
   "name": "python3"
  },
  "language_info": {
   "codemirror_mode": {
    "name": "ipython",
    "version": 3
   },
   "file_extension": ".py",
   "mimetype": "text/x-python",
   "name": "python",
   "nbconvert_exporter": "python",
   "pygments_lexer": "ipython3",
   "version": "3.7.7"
  }
 },
 "nbformat": 4,
 "nbformat_minor": 4
}
