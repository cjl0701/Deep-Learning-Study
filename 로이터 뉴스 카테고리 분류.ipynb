{
 "cells": [
  {
   "cell_type": "code",
   "execution_count": 1,
   "metadata": {},
   "outputs": [
    {
     "name": "stderr",
     "output_type": "stream",
     "text": [
      "Using TensorFlow backend.\n"
     ]
    }
   ],
   "source": [
    "from keras.datasets import reuters\n",
    "from keras.utils import np_utils\n",
    "from keras.models import Sequential\n",
    "from keras.layers import Dense,LSTM, Embedding\n",
    "from keras.preprocessing import sequence\n",
    "\n",
    "import numpy\n",
    "import matplotlib.pyplot as plt\n",
    "import tensorflow as tf\n",
    "\n",
    "# seed 값 설정\n",
    "seed = 0\n",
    "numpy.random.seed(seed)\n",
    "tf.random.set_seed(seed)\n"
   ]
  },
  {
   "cell_type": "code",
   "execution_count": 3,
   "metadata": {},
   "outputs": [
    {
     "name": "stdout",
     "output_type": "stream",
     "text": [
      "46 카테고리\n",
      "8982 학습용 뉴스 기사\n",
      "2246 테스트용 뉴스 기사\n",
      "[1, 2, 2, 8, 43, 10, 447, 5, 25, 207, 270, 5, 2, 111, 16, 369, 186, 90, 67, 7, 89, 5, 19, 102, 6, 19, 124, 15, 90, 67, 84, 22, 482, 26, 7, 48, 4, 49, 8, 864, 39, 209, 154, 6, 151, 6, 83, 11, 15, 22, 155, 11, 15, 7, 48, 9, 2, 2, 504, 6, 258, 6, 272, 11, 15, 22, 134, 44, 11, 15, 16, 8, 197, 2, 90, 67, 52, 29, 209, 30, 32, 132, 6, 109, 15, 17, 12]\n"
     ]
    }
   ],
   "source": [
    "# 불러온 데이터를 학습셋과 테스트셋으로 나누기\n",
    "(X_train, Y_train), (X_test, Y_test) = reuters.load_data(num_words=1000, test_split=0.2)\n",
    "\n",
    "# 데이터 확인하기\n",
    "category = numpy.max(Y_train)+1;\n",
    "print(category, '카테고리')\n",
    "print(len(X_train), '학습용 뉴스 기사')\n",
    "print(len(X_test), '테스트용 뉴스 기사')\n",
    "print(X_train[0])\n",
    "\n",
    "# 데이터 전처리\n",
    "x_train = sequence.pad_sequences(X_train, maxlen=100)\n",
    "x_test = sequence.pad_sequences(X_test, maxlen=100)\n",
    "y_train = np_utils.to_categorical(Y_train) # 원 핫 인코딩\n",
    "y_test = np_utils.to_categorical(Y_test)\n"
   ]
  },
  {
   "cell_type": "code",
   "execution_count": 4,
   "metadata": {},
   "outputs": [
    {
     "name": "stderr",
     "output_type": "stream",
     "text": [
      "C:\\Users\\JAELYANG\\Anaconda3\\lib\\site-packages\\tensorflow_core\\python\\framework\\indexed_slices.py:424: UserWarning: Converting sparse IndexedSlices to a dense Tensor of unknown shape. This may consume a large amount of memory.\n",
      "  \"Converting sparse IndexedSlices to a dense Tensor of unknown shape. \"\n"
     ]
    },
    {
     "name": "stdout",
     "output_type": "stream",
     "text": [
      "Train on 8982 samples, validate on 2246 samples\n",
      "Epoch 1/20\n",
      "8982/8982 [==============================] - 35s 4ms/step - loss: 2.5544 - accuracy: 0.3672 - val_loss: 2.0773 - val_accuracy: 0.4978\n",
      "Epoch 2/20\n",
      "8982/8982 [==============================] - 34s 4ms/step - loss: 1.9524 - accuracy: 0.4964 - val_loss: 1.8621 - val_accuracy: 0.5289\n",
      "Epoch 3/20\n",
      "8982/8982 [==============================] - 34s 4ms/step - loss: 1.8088 - accuracy: 0.5303 - val_loss: 1.7712 - val_accuracy: 0.5436\n",
      "Epoch 4/20\n",
      "8982/8982 [==============================] - 34s 4ms/step - loss: 1.7272 - accuracy: 0.5478 - val_loss: 1.7310 - val_accuracy: 0.5592\n",
      "Epoch 5/20\n",
      "8982/8982 [==============================] - 34s 4ms/step - loss: 1.6629 - accuracy: 0.5724 - val_loss: 1.6827 - val_accuracy: 0.5659\n",
      "Epoch 6/20\n",
      "8982/8982 [==============================] - 35s 4ms/step - loss: 1.5863 - accuracy: 0.5923 - val_loss: 1.6304 - val_accuracy: 0.5824\n",
      "Epoch 7/20\n",
      "8982/8982 [==============================] - 36s 4ms/step - loss: 1.5747 - accuracy: 0.5955 - val_loss: 1.6454 - val_accuracy: 0.5859\n",
      "Epoch 8/20\n",
      "8982/8982 [==============================] - 35s 4ms/step - loss: 1.5244 - accuracy: 0.6080 - val_loss: 1.5713 - val_accuracy: 0.5913\n",
      "Epoch 9/20\n",
      "8982/8982 [==============================] - 35s 4ms/step - loss: 1.4214 - accuracy: 0.6336 - val_loss: 1.4612 - val_accuracy: 0.6345\n",
      "Epoch 10/20\n",
      "8982/8982 [==============================] - 35s 4ms/step - loss: 1.2969 - accuracy: 0.6702 - val_loss: 1.4159 - val_accuracy: 0.6460\n",
      "Epoch 11/20\n",
      "8982/8982 [==============================] - 36s 4ms/step - loss: 1.1987 - accuracy: 0.6951 - val_loss: 1.3308 - val_accuracy: 0.6567\n",
      "Epoch 12/20\n",
      "8982/8982 [==============================] - 36s 4ms/step - loss: 1.1273 - accuracy: 0.7149 - val_loss: 1.2791 - val_accuracy: 0.6883\n",
      "Epoch 13/20\n",
      "8982/8982 [==============================] - 35s 4ms/step - loss: 1.0635 - accuracy: 0.7346 - val_loss: 1.2525 - val_accuracy: 0.6834\n",
      "Epoch 14/20\n",
      "8982/8982 [==============================] - 36s 4ms/step - loss: 1.0216 - accuracy: 0.7438 - val_loss: 1.2394 - val_accuracy: 0.6901\n",
      "Epoch 15/20\n",
      "8982/8982 [==============================] - 32s 4ms/step - loss: 0.9782 - accuracy: 0.7531 - val_loss: 1.2122 - val_accuracy: 0.6941\n",
      "Epoch 16/20\n",
      "8982/8982 [==============================] - 30s 3ms/step - loss: 0.9201 - accuracy: 0.7643 - val_loss: 1.2155 - val_accuracy: 0.6910\n",
      "Epoch 17/20\n",
      "8982/8982 [==============================] - 31s 3ms/step - loss: 0.8882 - accuracy: 0.7743 - val_loss: 1.2101 - val_accuracy: 0.7079\n",
      "Epoch 18/20\n",
      "8982/8982 [==============================] - 31s 3ms/step - loss: 0.8398 - accuracy: 0.7820 - val_loss: 1.2080 - val_accuracy: 0.6986\n",
      "Epoch 19/20\n",
      "8982/8982 [==============================] - 30s 3ms/step - loss: 0.8105 - accuracy: 0.7957 - val_loss: 1.2042 - val_accuracy: 0.7039\n",
      "Epoch 20/20\n",
      "8982/8982 [==============================] - 32s 4ms/step - loss: 0.7858 - accuracy: 0.7990 - val_loss: 1.2077 - val_accuracy: 0.7026\n",
      "2246/2246 [==============================] - 3s 1ms/step: \n",
      "\n",
      " Test Accuracy: 0.7026\n"
     ]
    }
   ],
   "source": [
    "# 모델의 설정\n",
    "model = Sequential()\n",
    "model.add(Embedding(1000,100))\n",
    "model.add(LSTM(100,activation='tanh'))\n",
    "model.add(Dense(46, activation='softmax'))\n",
    "\n",
    "# 모델의 컴파일\n",
    "model.compile(loss='categorical_crossentropy', optimizer='adam', metrics=['accuracy'])\n",
    "\n",
    "# 모델의 실행\n",
    "history = model.fit(x_train, y_train, epochs=20, batch_size=100, validation_data=(x_test, y_test))\n",
    "\n",
    "# 테스트 정확도 출력\n",
    "print(\"\\n Test Accuracy: %.4f\" % (model.evaluate(x_test,y_test)[1]))"
   ]
  },
  {
   "cell_type": "code",
   "execution_count": 5,
   "metadata": {},
   "outputs": [
    {
     "data": {
      "image/png": "[encoded data removed]",
      "text/plain": [
       "<Figure size 432x288 with 1 Axes>"
      ]
     },
     "metadata": {
      "needs_background": "light"
     },
     "output_type": "display_data"
    }
   ],
   "source": [
    "# 테스트셋의 오차\n",
    "y_vloss = history.history['val_loss']\n",
    "\n",
    "# 학습셋의 오차\n",
    "y_loss = history.history['loss']\n",
    "\n",
    "# 그래프로 표현\n",
    "x_len = numpy.arange(len(y_loss))\n",
    "plt.plot(x_len, y_vloss, marker='.', c=\"red\", label='Testset_loss')\n",
    "plt.plot(x_len, y_loss, marker='.', c=\"blue\", label='Trainset_loss')\n",
    "\n",
    "# 그래프에 그리드를 주고 레이블을 표시\n",
    "plt.legend(loc='upper right')\n",
    "plt.grid()\n",
    "plt.xlabel('epoch')\n",
    "plt.ylabel('loss')\n",
    "plt.show()\n"
   ]
  }
 ],
 "metadata": {
  "kernelspec": {
   "display_name": "Python 3",
   "language": "python",
   "name": "python3"
  },
  "language_info": {
   "codemirror_mode": {
    "name": "ipython",
    "version": 3
   },
   "file_extension": ".py",
   "mimetype": "text/x-python",
   "name": "python",
   "nbconvert_exporter": "python",
   "pygments_lexer": "ipython3",
   "version": "3.7.7"
  }
 },
 "nbformat": 4,
 "nbformat_minor": 4
}
