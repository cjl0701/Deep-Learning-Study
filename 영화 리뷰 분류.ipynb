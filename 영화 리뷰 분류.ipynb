{
 "cells": [
  {
   "cell_type": "code",
   "execution_count": 2,
   "metadata": {},
   "outputs": [],
   "source": [
    "from keras.datasets import imdb\n",
    "\n",
    "import numpy as np\n",
    "\n",
    "# 불러온 데이터를 학습셋과 테스트셋으로 나누기\n",
    "(train_data, train_labels), (test_data, test_labels) = imdb.load_data(num_words=10000) # 자주 나타나는 단어 1만 개만 사용\n",
    "\n",
    "# 정수 시퀀스를 이진 행렬로 인코딩하기\n",
    "def vectorize_sequences(sequences, dimension=10000):\n",
    "    # 크기가 (len(sequences), dimension))이고 모든 원소가 0인 행렬을 만듦\n",
    "    results = np.zeros((len(sequences), dimension))\n",
    "    for i, sequence in enumerate(sequences):\n",
    "        results[i, sequence] = 1. # results[i]에서 특정 인덱스의 위치를 1로 만듦\n",
    "    return results\n",
    "\n",
    "# 훈련 데이터를 벡터로 변환\n",
    "x_train = vectorize_sequences(train_data)\n",
    "\n",
    "# 테스트 데이터를 벡터로 변환\n",
    "x_test = vectorize_sequences(test_data)\n",
    "\n",
    "x_train[0]\n",
    "\n",
    "# 레이블을 벡터로 변환\n",
    "y_train = np.asarray(train_labels).astype('float32')\n",
    "y_test = np.asarray(test_labels).astype('float32')\n"
   ]
  },
  {
   "cell_type": "code",
   "execution_count": 13,
   "metadata": {},
   "outputs": [],
   "source": [
    "# 신경망 모델 만들기\n",
    "from keras import models\n",
    "from keras import layers\n",
    "\n",
    "model = models.Sequential()\n",
    "model.add(layers.Dense(16, activation='relu', input_shape=(10000,)))\n",
    "model.add(layers.Dense(16, activation='relu'))\n",
    "model.add(layers.Dense(1, activation='sigmoid'))\n",
    "\n",
    "from keras import optimizers\n",
    "from keras import losses\n",
    "from keras import metrics\n",
    "\n",
    "# 모델 컴파일 하기\n",
    "model.compile(optimizer='rmsprop', loss='binary_crossentropy', metrics=['accuracy'])\n",
    "model.compile(optimizer=optimizers.RMSprop(lr=0.001), loss='binary_crossentropy', metrics=['accuracy'])\n",
    "model.compile(optimizer=optimizers.RMSprop(lr=0.001), loss=losses.binary_crossentropy, metrics=[metrics.binary_accuracy])\n",
    "\n"
   ]
  },
  {
   "cell_type": "code",
   "execution_count": 14,
   "metadata": {},
   "outputs": [
    {
     "name": "stdout",
     "output_type": "stream",
     "text": [
      "Train on 15000 samples, validate on 10000 samples\n",
      "Epoch 1/20\n",
      "15000/15000 [==============================] - 2s 148us/step - loss: 0.5172 - binary_accuracy: 0.7984 - val_loss: 0.3971 - val_binary_accuracy: 0.8680\n",
      "Epoch 2/20\n",
      "15000/15000 [==============================] - 2s 133us/step - loss: 0.3214 - binary_accuracy: 0.9005 - val_loss: 0.3347 - val_binary_accuracy: 0.8694\n",
      "Epoch 3/20\n",
      "15000/15000 [==============================] - 2s 125us/step - loss: 0.2369 - binary_accuracy: 0.9260 - val_loss: 0.2837 - val_binary_accuracy: 0.8894\n",
      "Epoch 4/20\n",
      "15000/15000 [==============================] - 2s 125us/step - loss: 0.1848 - binary_accuracy: 0.9400 - val_loss: 0.2732 - val_binary_accuracy: 0.8897\n",
      "Epoch 5/20\n",
      "15000/15000 [==============================] - 2s 123us/step - loss: 0.1507 - binary_accuracy: 0.9511 - val_loss: 0.2886 - val_binary_accuracy: 0.8850\n",
      "Epoch 6/20\n",
      "15000/15000 [==============================] - 2s 125us/step - loss: 0.1248 - binary_accuracy: 0.9617 - val_loss: 0.2879 - val_binary_accuracy: 0.8864\n",
      "Epoch 7/20\n",
      "15000/15000 [==============================] - 2s 126us/step - loss: 0.1027 - binary_accuracy: 0.9686 - val_loss: 0.3297 - val_binary_accuracy: 0.8770\n",
      "Epoch 8/20\n",
      "15000/15000 [==============================] - 2s 128us/step - loss: 0.0876 - binary_accuracy: 0.9745 - val_loss: 0.3268 - val_binary_accuracy: 0.8827\n",
      "Epoch 9/20\n",
      "15000/15000 [==============================] - 2s 132us/step - loss: 0.0723 - binary_accuracy: 0.9806 - val_loss: 0.3836 - val_binary_accuracy: 0.8721\n",
      "Epoch 10/20\n",
      "15000/15000 [==============================] - 2s 128us/step - loss: 0.0597 - binary_accuracy: 0.9851 - val_loss: 0.3815 - val_binary_accuracy: 0.8766\n",
      "Epoch 11/20\n",
      "15000/15000 [==============================] - 2s 129us/step - loss: 0.0495 - binary_accuracy: 0.9877 - val_loss: 0.4486 - val_binary_accuracy: 0.8642\n",
      "Epoch 12/20\n",
      "15000/15000 [==============================] - 2s 124us/step - loss: 0.0390 - binary_accuracy: 0.9918 - val_loss: 0.4174 - val_binary_accuracy: 0.8732\n",
      "Epoch 13/20\n",
      "15000/15000 [==============================] - 2s 127us/step - loss: 0.0312 - binary_accuracy: 0.9941 - val_loss: 0.4450 - val_binary_accuracy: 0.8736\n",
      "Epoch 14/20\n",
      "15000/15000 [==============================] - 2s 125us/step - loss: 0.0257 - binary_accuracy: 0.9948 - val_loss: 0.4815 - val_binary_accuracy: 0.8714\n",
      "Epoch 15/20\n",
      "15000/15000 [==============================] - 2s 123us/step - loss: 0.0187 - binary_accuracy: 0.9976 - val_loss: 0.5108 - val_binary_accuracy: 0.8711\n",
      "Epoch 16/20\n",
      "15000/15000 [==============================] - 2s 125us/step - loss: 0.0153 - binary_accuracy: 0.9983 - val_loss: 0.5402 - val_binary_accuracy: 0.8706\n",
      "Epoch 17/20\n",
      "15000/15000 [==============================] - 2s 129us/step - loss: 0.0108 - binary_accuracy: 0.9990 - val_loss: 0.5787 - val_binary_accuracy: 0.8696\n",
      "Epoch 18/20\n",
      "15000/15000 [==============================] - 2s 157us/step - loss: 0.0087 - binary_accuracy: 0.9990 - val_loss: 0.6046 - val_binary_accuracy: 0.8708\n",
      "Epoch 19/20\n",
      "15000/15000 [==============================] - 2s 154us/step - loss: 0.0095 - binary_accuracy: 0.9979 - val_loss: 0.6353 - val_binary_accuracy: 0.8700\n",
      "Epoch 20/20\n",
      "15000/15000 [==============================] - 2s 130us/step - loss: 0.0037 - binary_accuracy: 0.9999 - val_loss: 0.6704 - val_binary_accuracy: 0.8656\n"
     ]
    },
    {
     "data": {
      "text/plain": [
       "dict_keys(['val_loss', 'val_binary_accuracy', 'loss', 'binary_accuracy'])"
      ]
     },
     "execution_count": 14,
     "metadata": {},
     "output_type": "execute_result"
    }
   ],
   "source": [
    "# 훈련 검증\n",
    "x_val = x_train[:10000]\n",
    "partial_x_train = x_train[10000:]\n",
    "\n",
    "y_val = y_train[:10000]\n",
    "partial_y_train = y_train[10000:]\n",
    "\n",
    "history = model.fit(partial_x_train, partial_y_train, epochs=20, batch_size=512, validation_data=(x_val, y_val) )\n",
    "\n",
    "history_dict=history.history\n",
    "history_dict.keys()"
   ]
  },
  {
   "cell_type": "code",
   "execution_count": 17,
   "metadata": {},
   "outputs": [
    {
     "data": {
      "image/png": "[encoded data removed]",
      "text/plain": [
       "<Figure size 432x288 with 1 Axes>"
      ]
     },
     "metadata": {
      "needs_background": "light"
     },
     "output_type": "display_data"
    }
   ],
   "source": [
    "import matplotlib.pyplot as plt\n",
    "\n",
    "acc = history.history['binary_accuracy']\n",
    "val_acc = history.history['val_binary_accuracy']\n",
    "loss = history.history['loss']\n",
    "val_loss = history.history['val_loss']\n",
    "\n",
    "epochs = range(1, len(acc)+1)\n",
    "\n",
    "# 'bo'는 파란색 점을 의미\n",
    "plt.plot(epochs, loss, 'bo', label='Training loss')\n",
    "# 'b'는 파란색 실선을 의미\n",
    "plt.plot(epochs, val_loss, 'b', label='Validation loss')\n",
    "plt.title('Training and validation loss')\n",
    "plt.xlabel('Epochs')\n",
    "plt.ylabel('Loss')\n",
    "plt.legend()\n",
    "\n",
    "plt.show()"
   ]
  },
  {
   "cell_type": "code",
   "execution_count": 18,
   "metadata": {},
   "outputs": [
    {
     "data": {
      "image/png": "[encoded data removed]",
      "text/plain": [
       "<Figure size 432x288 with 1 Axes>"
      ]
     },
     "metadata": {
      "needs_background": "light"
     },
     "output_type": "display_data"
    }
   ],
   "source": [
    "plt.clf() # 그래프를 초기화\n",
    "acc = history_dict['binary_accuracy']\n",
    "val_acc =history_dict['val_binary_accuracy']\n",
    "\n",
    "plt.plot(epochs, acc, 'bo',label='Training acc' )\n",
    "plt.plot(epochs, val_acc, 'b', label='Validation acc')\n",
    "plt.title('Training and validation accuracy')\n",
    "plt.xlabel('Epochs')\n",
    "plt.ylabel('Accuracy')\n",
    "plt.legend()\n",
    "\n",
    "plt.show()"
   ]
  },
  {
   "cell_type": "code",
   "execution_count": null,
   "metadata": {},
   "outputs": [],
   "source": []
  },
  {
   "cell_type": "code",
   "execution_count": null,
   "metadata": {},
   "outputs": [],
   "source": [
    "\n"
   ]
  }
 ],
 "metadata": {
  "kernelspec": {
   "display_name": "Python 3",
   "language": "python",
   "name": "python3"
  },
  "language_info": {
   "codemirror_mode": {
    "name": "ipython",
    "version": 3
   },
   "file_extension": ".py",
   "mimetype": "text/x-python",
   "name": "python",
   "nbconvert_exporter": "python",
   "pygments_lexer": "ipython3",
   "version": "3.7.7"
  }
 },
 "nbformat": 4,
 "nbformat_minor": 4
}
